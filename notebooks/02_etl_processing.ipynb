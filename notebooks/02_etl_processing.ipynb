{
 "cells": [
  {
   "cell_type": "markdown",
   "metadata": {},
   "source": [
    "# 📊 AWS Glue & PySpark ETL: Análise de Transações Financeiras\n",
    "\n",
    "# 📌 1️⃣ Introdução e Objetivo\n",
    "\n",
    "Este notebook implementa a etapa de **ETL (Extração, Transformação e Carga)** para processamento dos dados brutos.\n",
    "\n",
    "📌 **Objetivo:**  \n",
    "- Carregar os dados brutos da pasta `data/raw/`\n",
    "- Aplicar transformações com **PySpark** (limpeza, normalização e regras de negócio)\n",
    "- Armazenar os dados processados em formato **Parquet** para análise posterior\n",
    "\n",
    "🔧 **Tecnologias utilizadas:**  \n",
    "- **PySpark** para processamento eficiente de grandes volumes de dados\n",
    "- **AWS Glue** (se rodarmos na nuvem) ou Spark local\n",
    "- **Parquet** como formato de armazenamento otimizado\n",
    "\n",
    "---\n"
   ]
  },
  {
   "cell_type": "markdown",
   "metadata": {},
   "source": [
    "## 📌 2️⃣ Configuração do do PySpark"
   ]
  },
  {
   "cell_type": "code",
   "execution_count": null,
   "metadata": {},
   "outputs": [],
   "source": [
    "import os\n",
    "import pyspark\n",
    "from pyspark.sql import SparkSession\n",
    "\n",
    "# Criar uma sessão do PySpark\n",
    "spark = SparkSession.builder \\\n",
    "    .appName(\"ETL_Processing\") \\\n",
    "    .config(\"spark.sql.repl.eagerEval.enabled\", True) \\\n",
    "    .getOrCreate()\n",
    "\n",
    "print(\"✅ PySpark configurado com sucesso!\")"
   ]
  },
  {
   "cell_type": "markdown",
   "metadata": {},
   "source": [
    "## 📌 3️⃣ Carregamento dos Dados Brutos"
   ]
  },
  {
   "cell_type": "code",
   "execution_count": null,
   "metadata": {},
   "outputs": [],
   "source": [
    "import os\n",
    "import yaml\n",
    "\n",
    "# Carregar Configuração do YAML\n",
    "config_path = os.path.abspath(os.path.join(os.getcwd(), \"..\", \"config/config.yaml\"))  \n",
    "\n",
    "print(f\"Tentando carregar: {config_path}\")\n",
    "\n",
    "if os.path.exists(config_path):\n",
    "    with open(config_path, \"r\") as f:\n",
    "        config = yaml.safe_load(f)\n",
    "    print(\"✅ Configuração carregada com sucesso!\")\n",
    "else:\n",
    "    raise FileNotFoundError(\"❌ Arquivo 'config.yaml' não encontrado!\")\n",
    "\n",
    "# Ajustar caminhos do config.yaml para evitar problemas com barras no Windows/Linux\n",
    "raw_data_path = os.path.normpath(config.get(\"raw_data_path\", \"data/raw/\"))\n",
    "\n",
    "# Garantir que o caminho seja absoluto\n",
    "if not os.path.isabs(raw_data_path):\n",
    "    raw_data_path = os.path.abspath(raw_data_path)\n",
    "\n",
    "# Verificar se o diretório existe\n",
    "if not os.path.exists(raw_data_path):\n",
    "    raise FileNotFoundError(f\"❌ ERRO: O diretório de dados brutos '{raw_data_path}' não existe!\")\n",
    "\n",
    "print(f\"📂 Diretório de dados brutos encontrado: {raw_data_path}\")\n",
    "\n",
    "# 📌 4️⃣ Carregamento dos Dados Brutos\n",
    "\n",
    "# Listar arquivos na pasta raw\n",
    "arquivos_raw = os.listdir(raw_data_path)\n",
    "print(f\"📂 Arquivos encontrados: {arquivos_raw}\")\n",
    "\n",
    "# Verificar se há pelo menos um arquivo CSV na pasta\n",
    "csv_files = [f for f in arquivos_raw if f.endswith(\".csv\")]\n",
    "if not csv_files:\n",
    "    raise FileNotFoundError(\"❌ Nenhum arquivo CSV encontrado na pasta de dados brutos.\")\n",
    "\n",
    "# Carregar os dados no PySpark DataFrame\n",
    "df_raw = spark.read.csv(os.path.join(raw_data_path, csv_files[0]), header=True, inferSchema=True)\n",
    "\n",
    "# Exibir amostra dos dados\n",
    "print(\"✅ Exibindo amostra dos dados:\")\n",
    "df_raw.show(5)\n",
    "\n",
    "# Exibir schema dos dados\n",
    "print(\"✅ Schema do DataFrame:\")\n",
    "df_raw.printSchema()\n"
   ]
  },
  {
   "cell_type": "code",
   "execution_count": null,
   "metadata": {},
   "outputs": [],
   "source": []
  }
 ],
 "metadata": {
  "kernelspec": {
   "display_name": "Python 3",
   "language": "python",
   "name": "python3"
  },
  "language_info": {
   "codemirror_mode": {
    "name": "ipython",
    "version": 3
   },
   "file_extension": ".py",
   "mimetype": "text/x-python",
   "name": "python",
   "nbconvert_exporter": "python",
   "pygments_lexer": "ipython3",
   "version": "3.13.2"
  }
 },
 "nbformat": 4,
 "nbformat_minor": 4
}
