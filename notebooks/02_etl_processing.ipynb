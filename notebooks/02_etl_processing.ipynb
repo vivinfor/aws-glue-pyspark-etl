{
 "cells": [
  {
   "cell_type": "markdown",
   "metadata": {},
   "source": [
    "# 📊 AWS Glue & PySpark ETL: Análise de Transações Financeiras\n",
    "\n",
    "# 📌 1️⃣ Introdução e Objetivo\n",
    "\n",
    "Este notebook implementa a etapa de **ETL (Extração, Transformação e Carga)** para processamento dos dados brutos.\n",
    "\n",
    "📌 **Objetivo:**  \n",
    "- Carregar os dados brutos da pasta `data/raw/`\n",
    "- Aplicar transformações com **PySpark** (limpeza, normalização e regras de negócio)\n",
    "- Armazenar os dados processados em formato **Parquet** para análise posterior\n",
    "\n",
    "🔧 **Tecnologias utilizadas:**  \n",
    "- **PySpark** para processamento eficiente de grandes volumes de dados\n",
    "- **AWS Glue** (se rodarmos na nuvem) ou Spark local\n",
    "- **Parquet** como formato de armazenamento otimizado\n",
    "\n",
    "---\n"
   ]
  },
  {
   "cell_type": "markdown",
   "metadata": {},
   "source": [
    "## 📌 2️⃣ Configuração do do PySpark"
   ]
  },
  {
   "cell_type": "code",
   "execution_count": 2,
   "metadata": {},
   "outputs": [
    {
     "ename": "ModuleNotFoundError",
     "evalue": "No module named 'pyspark'",
     "output_type": "error",
     "traceback": [
      "\u001b[31m---------------------------------------------------------------------------\u001b[39m",
      "\u001b[31mModuleNotFoundError\u001b[39m                       Traceback (most recent call last)",
      "\u001b[36mCell\u001b[39m\u001b[36m \u001b[39m\u001b[32mIn[2]\u001b[39m\u001b[32m, line 2\u001b[39m\n\u001b[32m      1\u001b[39m \u001b[38;5;28;01mimport\u001b[39;00m\u001b[38;5;250m \u001b[39m\u001b[34;01mos\u001b[39;00m\n\u001b[32m----> \u001b[39m\u001b[32m2\u001b[39m \u001b[38;5;28;01mimport\u001b[39;00m\u001b[38;5;250m \u001b[39m\u001b[34;01mpyspark\u001b[39;00m\n\u001b[32m      3\u001b[39m \u001b[38;5;28;01mfrom\u001b[39;00m\u001b[38;5;250m \u001b[39m\u001b[34;01mpyspark\u001b[39;00m\u001b[34;01m.\u001b[39;00m\u001b[34;01msql\u001b[39;00m\u001b[38;5;250m \u001b[39m\u001b[38;5;28;01mimport\u001b[39;00m SparkSession\n\u001b[32m      5\u001b[39m \u001b[38;5;66;03m# Criar uma sessão do PySpark\u001b[39;00m\n",
      "\u001b[31mModuleNotFoundError\u001b[39m: No module named 'pyspark'"
     ]
    }
   ],
   "source": [
    "import os\n",
    "import pyspark\n",
    "from pyspark.sql import SparkSession\n",
    "\n",
    "# Criar uma sessão do PySpark\n",
    "spark = SparkSession.builder \\\n",
    "    .appName(\"ETL_Processing\") \\\n",
    "    .config(\"spark.sql.repl.eagerEval.enabled\", True) \\\n",
    "    .getOrCreate()\n",
    "\n",
    "print(\"✅ PySpark configurado com sucesso!\")"
   ]
  },
  {
   "cell_type": "markdown",
   "metadata": {},
   "source": [
    "## 📌 3️⃣ Carregamento dos Dados Brutos"
   ]
  },
  {
   "cell_type": "code",
   "execution_count": null,
   "metadata": {},
   "outputs": [],
   "source": [
    "# Definir caminho dos dados brutos\n",
    "raw_data_path = \"data/raw/\"\n",
    "\n",
    "# Listar arquivos na pasta raw\n",
    "arquivos_raw = os.listdir(raw_data_path)\n",
    "print(f\"📂 Arquivos encontrados: {arquivos_raw}\")\n",
    "\n",
    "# Carregar os dados no PySpark DataFrame\n",
    "df_raw = spark.read.csv(os.path.join(raw_data_path, \"transactions.csv\"), header=True, inferSchema=True)\n",
    "\n",
    "# Exibir amostra dos dados\n",
    "df_raw.show(5)\n",
    "\n",
    "# Exibir schema dos dados\n",
    "df_raw.printSchema()\n"
   ]
  },
  {
   "cell_type": "code",
   "execution_count": null,
   "metadata": {},
   "outputs": [],
   "source": []
  }
 ],
 "metadata": {
  "kernelspec": {
   "display_name": "Python 3",
   "language": "python",
   "name": "python3"
  },
  "language_info": {
   "codemirror_mode": {
    "name": "ipython",
    "version": 3
   },
   "file_extension": ".py",
   "mimetype": "text/x-python",
   "name": "python",
   "nbconvert_exporter": "python",
   "pygments_lexer": "ipython3",
   "version": "3.13.2"
  }
 },
 "nbformat": 4,
 "nbformat_minor": 4
}
