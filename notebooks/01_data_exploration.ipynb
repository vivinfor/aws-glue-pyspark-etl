{
 "cells": [
  {
   "cell_type": "code",
   "execution_count": null,
   "metadata": {
    "vscode": {
     "languageId": "plaintext"
    }
   },
   "outputs": [],
   "source": [
    "import pandas as pd\n",
    "import pyarrow.parquet as pq\n",
    "import os\n",
    "import matplotlib.pyplot as plt\n",
    "import seaborn as sns\n",
    "\n",
    "# Caminho para os arquivos Parquet processados\n",
    "processed_data_path = \"data/processed/transactions.parquet\"\n",
    "\n",
    "# Carregar os dados em um DataFrame do Pandas\n",
    "df = pd.read_parquet(processed_data_path, engine=\"pyarrow\")\n",
    "\n",
    "# Exibir as 5 primeiras linhas\n",
    "display(df.head())\n",
    "\n",
    "# Informações gerais do dataset\n",
    "df.info()\n",
    "\n",
    "# Estatísticas descritivas\n",
    "display(df.describe())\n",
    "\n",
    "# Verificar valores nulos\n",
    "display(df.isnull().sum())\n",
    "\n",
    "# Verificar colunas e tipos de dados\n",
    "display(df.dtypes)\n",
    "\n",
    "# Distribuição dos Valores das Transações\n",
    "plt.figure(figsize=(10,5))\n",
    "sns.histplot(df[\"amt\"], bins=50, kde=True)\n",
    "plt.title(\"Distribuição do Valor das Transações\")\n",
    "plt.xlabel(\"Valor da Transação ($)\")\n",
    "plt.ylabel(\"Frequência\")\n",
    "plt.show()\n",
    "\n",
    "# Comparação de Transações Legítimas vs. Fraudulentas\n",
    "plt.figure(figsize=(6,4))\n",
    "sns.countplot(x=\"is_fraud\", data=df, palette=\"coolwarm\")\n",
    "plt.title(\"Distribuição de Transações Fraudulentas vs. Legítimas\")\n",
    "plt.xlabel(\"Fraude (0 = Não, 1 = Sim)\")\n",
    "plt.ylabel(\"Contagem\")\n",
    "plt.show()\n",
    "\n",
    "# Boxplot para Identificação de Outliers\n",
    "plt.figure(figsize=(10,5))\n",
    "sns.boxplot(x=\"is_fraud\", y=\"amt\", data=df)\n",
    "plt.title(\"Distribuição de Valores de Transações - Legítimas vs. Fraudulentas\")\n",
    "plt.xlabel(\"Fraude\")\n",
    "plt.ylabel(\"Valor da Transação ($)\")\n",
    "plt.yscale(\"log\")  # Escala log para melhor visualização\n",
    "plt.show()\n",
    "\n",
    "# Criar matriz de correlação\n",
    "plt.figure(figsize=(10, 6))\n",
    "sns.heatmap(df.corr(), annot=True, cmap=\"coolwarm\", fmt=\".2f\", linewidths=0.5)\n",
    "plt.title(\"Matriz de Correlação das Variáveis\")\n",
    "plt.show()\n"
   ]
  }
 ],
 "metadata": {
  "language_info": {
   "name": "python"
  }
 },
 "nbformat": 4,
 "nbformat_minor": 2
}
