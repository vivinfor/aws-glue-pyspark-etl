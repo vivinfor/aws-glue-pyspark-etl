{
 "cells": [
  {
   "cell_type": "code",
   "execution_count": 5,
   "metadata": {},
   "outputs": [
    {
     "ename": "ModuleNotFoundError",
     "evalue": "No module named 'pandas'",
     "output_type": "error",
     "traceback": [
      "\u001b[31m---------------------------------------------------------------------------\u001b[39m",
      "\u001b[31mModuleNotFoundError\u001b[39m                       Traceback (most recent call last)",
      "\u001b[36mCell\u001b[39m\u001b[36m \u001b[39m\u001b[32mIn[5]\u001b[39m\u001b[32m, line 1\u001b[39m\n\u001b[32m----> \u001b[39m\u001b[32m1\u001b[39m \u001b[38;5;28;01mimport\u001b[39;00m\u001b[38;5;250m \u001b[39m\u001b[34;01mpandas\u001b[39;00m\u001b[38;5;250m \u001b[39m\u001b[38;5;28;01mas\u001b[39;00m\u001b[38;5;250m \u001b[39m\u001b[34;01mpd\u001b[39;00m\n\u001b[32m      2\u001b[39m \u001b[38;5;28;01mimport\u001b[39;00m\u001b[38;5;250m \u001b[39m\u001b[34;01mpyarrow\u001b[39;00m\u001b[34;01m.\u001b[39;00m\u001b[34;01mparquet\u001b[39;00m\u001b[38;5;250m \u001b[39m\u001b[38;5;28;01mas\u001b[39;00m\u001b[38;5;250m \u001b[39m\u001b[34;01mpq\u001b[39;00m\n\u001b[32m      3\u001b[39m \u001b[38;5;28;01mimport\u001b[39;00m\u001b[38;5;250m \u001b[39m\u001b[34;01mos\u001b[39;00m\n",
      "\u001b[31mModuleNotFoundError\u001b[39m: No module named 'pandas'"
     ]
    }
   ],
   "source": [
    "import pandas as pd\n",
    "import pyarrow.parquet as pq\n",
    "import os\n",
    "import matplotlib.pyplot as plt\n",
    "import seaborn as sns\n",
    "import glob\n",
    "\n",
    "\n",
    "# Carregar todos os arquivos Parquet na pasta\n",
    "processed_data_path = \"data/processed/*.parquet\"\n",
    "\n",
    "# Lista todos os arquivos correspondentes ao padrão\n",
    "parquet_files = glob.glob(processed_data_path)\n",
    "\n",
    "# Verifica se encontrou arquivos\n",
    "if not parquet_files:\n",
    "    raise FileNotFoundError(\"Nenhum arquivo Parquet encontrado na pasta 'data/processed/'.\")\n",
    "\n",
    "# Carregar todos os arquivos Parquet em um único DataFrame\n",
    "df = pd.concat([pd.read_parquet(f, engine=\"pyarrow\") for f in parquet_files])\n",
    "\n",
    "# Exibir as 5 primeiras linhas\n",
    "display(df.head())\n",
    "\n",
    "# Exibir as 5 primeiras linhas\n",
    "display(df.head())\n",
    "\n",
    "# Informações gerais do dataset\n",
    "df.info()\n",
    "\n",
    "# Estatísticas descritivas\n",
    "display(df.describe())\n",
    "\n",
    "# Verificar valores nulos\n",
    "display(df.isnull().sum())\n",
    "\n",
    "# Verificar colunas e tipos de dados\n",
    "display(df.dtypes)\n",
    "\n",
    "# Distribuição dos Valores das Transações\n",
    "plt.figure(figsize=(10,5))\n",
    "sns.histplot(df[\"amt\"], bins=50, kde=True)\n",
    "plt.title(\"Distribuição do Valor das Transações\")\n",
    "plt.xlabel(\"Valor da Transação ($)\")\n",
    "plt.ylabel(\"Frequência\")\n",
    "plt.show()\n",
    "\n",
    "# Comparação de Transações Legítimas vs. Fraudulentas\n",
    "plt.figure(figsize=(6,4))\n",
    "sns.countplot(x=\"is_fraud\", data=df, palette=\"coolwarm\")\n",
    "plt.title(\"Distribuição de Transações Fraudulentas vs. Legítimas\")\n",
    "plt.xlabel(\"Fraude (0 = Não, 1 = Sim)\")\n",
    "plt.ylabel(\"Contagem\")\n",
    "plt.show()\n",
    "\n",
    "# Boxplot para Identificação de Outliers\n",
    "plt.figure(figsize=(10,5))\n",
    "sns.boxplot(x=\"is_fraud\", y=\"amt\", data=df)\n",
    "plt.title(\"Distribuição de Valores de Transações - Legítimas vs. Fraudulentas\")\n",
    "plt.xlabel(\"Fraude\")\n",
    "plt.ylabel(\"Valor da Transação ($)\")\n",
    "plt.yscale(\"log\")  # Escala log para melhor visualização\n",
    "plt.show()\n",
    "\n",
    "# Criar matriz de correlação\n",
    "plt.figure(figsize=(10, 6))\n",
    "sns.heatmap(df.corr(), annot=True, cmap=\"coolwarm\", fmt=\".2f\", linewidths=0.5)\n",
    "plt.title(\"Matriz de Correlação das Variáveis\")\n",
    "plt.show()\n"
   ]
  }
 ],
 "metadata": {
  "kernelspec": {
   "display_name": "Python 3",
   "language": "python",
   "name": "python3"
  },
  "language_info": {
   "codemirror_mode": {
    "name": "ipython",
    "version": 3
   },
   "file_extension": ".py",
   "mimetype": "text/x-python",
   "name": "python",
   "nbconvert_exporter": "python",
   "pygments_lexer": "ipython3",
   "version": "3.13.2"
  }
 },
 "nbformat": 4,
 "nbformat_minor": 2
}
