{
 "cells": [
  {
   "cell_type": "markdown",
   "metadata": {},
   "source": [
    "# 📊 AWS Glue & PySpark ETL: Análise de Transações Financeiras\n",
    "\n",
    "## 📌 Introdução\n",
    "\n",
    "Este projeto tem como objetivo **analisar transações financeiras**, identificando padrões e possíveis fraudes.\n",
    "Utilizamos **AWS Glue & PySpark** para processamento e **Pandas + Seaborn** para análise exploratória.\n",
    "\n",
    "### **Principais perguntas analisadas:**\n",
    "- Como os valores das transações estão distribuídos?\n",
    "- Há padrões claros entre transações fraudulentas e legítimas?\n",
    "- Existe alguma variável fortemente correlacionada com fraudes?\n",
    "\n",
    "### **Tecnologias utilizadas:**\n",
    "✅ **PySpark & Pandas** → Manipulação de dados.  \n",
    "✅ **Matplotlib & Seaborn** → Visualização de insights.  \n",
    "✅ **AWS Glue & S3** → Processamento em escala.  \n",
    "✅ **SQL & Power BI** → Otimização e Dashboards (próximas etapas).\n"
   ]
  },
  {
   "cell_type": "markdown",
   "metadata": {},
   "source": [
    "## 📌 2️⃣ Importação de Bibliotecas"
   ]
  },
  {
   "cell_type": "code",
   "execution_count": null,
   "metadata": {},
   "outputs": [],
   "source": [
    "import os\n",
    "import yaml\n",
    "import glob\n",
    "import pandas as pd\n",
    "import matplotlib.pyplot as plt\n",
    "import seaborn as sns"
   ]
  },
  {
   "cell_type": "markdown",
   "metadata": {},
   "source": [
    "## 📌 3️⃣ Carregamento do Arquivo de Configuração\n",
    "\n",
    "Antes de iniciar a análise, precisamos carregar as configurações do projeto.  \n",
    "O arquivo `config.yaml` contém informações essenciais, como **caminho dos dados** e **parâmetros de processamento**.\n"
   ]
  },
  {
   "cell_type": "code",
   "execution_count": null,
   "metadata": {},
   "outputs": [],
   "source": [
    "import os\n",
    "import yaml\n",
    "\n",
    "# 📂 Garantir que o caminho seja carregado corretamente\n",
    "config_path = os.path.abspath(os.path.join(os.getcwd(), \"config/config.yaml\"))\n",
    "\n",
    "print(f\"📂 Tentando carregar: {config_path}\")\n",
    "\n",
    "if os.path.exists(config_path):\n",
    "    with open(config_path, \"r\") as f:\n",
    "        config = yaml.safe_load(f)\n",
    "    print(\"✅ Configuração carregada com sucesso!\")\n",
    "else:\n",
    "    raise FileNotFoundError(\"❌ Arquivo 'config.yaml' não encontrado!\")\n",
    "\n",
    "# 🔄 Definir ambiente\n",
    "IS_AWS = config.get(\"environment\") == \"aws\"\n",
    "\n",
    "# 📂 Ajustar caminhos dependendo do ambiente\n",
    "if IS_AWS:\n",
    "    INPUT_PATH = config.get(\"aws_s3_input\")\n",
    "    OUTPUT_PATH = config.get(\"aws_s3_output\")\n",
    "else:\n",
    "    INPUT_PATH = os.path.abspath(config.get(\"raw_data_path\"))\n",
    "    OUTPUT_PATH = os.path.abspath(config.get(\"data_path\"))\n",
    "\n",
    "print(f\"📂 Caminho de entrada: {INPUT_PATH}\")\n",
    "print(f\"📂 Caminho de saída: {OUTPUT_PATH}\")\n"
   ]
  },
  {
   "cell_type": "code",
   "execution_count": null,
   "metadata": {},
   "outputs": [],
   "source": [
    "# Configuração para exibição de gráficos inline\n",
    "%matplotlib inline\n",
    "sns.set_theme(style=\"whitegrid\")"
   ]
  },
  {
   "cell_type": "markdown",
   "metadata": {},
   "source": [
    "# 📌 4️⃣ Carregar os Dados"
   ]
  },
  {
   "cell_type": "code",
   "execution_count": null,
   "metadata": {},
   "outputs": [],
   "source": [
    "import os\n",
    "import yaml\n",
    "import glob\n",
    "import pandas as pd\n",
    "\n",
    "# 📂 Carregar configuração do YAML\n",
    "config_path = os.path.abspath(\"config/config.yaml\")\n",
    "\n",
    "if os.path.exists(config_path):\n",
    "    with open(config_path, \"r\") as f:\n",
    "        config = yaml.safe_load(f)\n",
    "    print(\"✅ Configuração carregada com sucesso!\")\n",
    "else:\n",
    "    raise FileNotFoundError(\"❌ Arquivo 'config.yaml' não encontrado!\")\n",
    "\n",
    "# 🔄 Definir ambiente (AWS ou Local)\n",
    "IS_AWS = config.get(\"environment\") == \"aws\"\n",
    "\n",
    "# 📂 Ajustar caminho de busca dos arquivos Parquet\n",
    "if IS_AWS:\n",
    "    processed_data_path = config.get(\"aws_s3_output\")  # No AWS, leitura seria via S3\n",
    "else:\n",
    "    processed_data_path = os.path.abspath(config.get(\"data_path\"))\n",
    "\n",
    "# 📂 Buscar arquivos Parquet no diretório configurado\n",
    "parquet_files = glob.glob(os.path.join(processed_data_path, \"*.parquet\"))\n",
    "\n",
    "# 🔄 Corrigir caminho para evitar problemas no Windows/Linux\n",
    "parquet_files = [os.path.normpath(f) for f in parquet_files]\n",
    "\n",
    "# 📌 Verificar se encontrou arquivos Parquet\n",
    "if not parquet_files:\n",
    "    raise FileNotFoundError(f\"❌ Nenhum arquivo Parquet encontrado no diretório: {processed_data_path}\")\n",
    "\n",
    "print(f\"✅ {len(parquet_files)} arquivos Parquet encontrados!\")\n",
    "\n",
    "# 🔄 Carregar e concatenar os arquivos Parquet no Pandas DataFrame\n",
    "df_list = [pd.read_parquet(f, engine=\"pyarrow\") for f in parquet_files]\n",
    "df = pd.concat(df_list, ignore_index=True) if df_list else pd.DataFrame()\n",
    "\n",
    "# 📊 Exibir primeiras linhas e estatísticas\n",
    "display(df.head())\n",
    "display(df.describe())\n",
    "display(df.dtypes)\n"
   ]
  },
  {
   "cell_type": "markdown",
   "metadata": {},
   "source": [
    "# 📌 5️⃣ Exploração Inicial dos Dados"
   ]
  },
  {
   "cell_type": "code",
   "execution_count": null,
   "metadata": {},
   "outputs": [],
   "source": [
    "print(\"📊 Exibindo as 5 primeiras linhas do dataset:\")\n",
    "display(df.head())\n",
    "\n",
    "print(\"\\n📌 Informações Gerais sobre o DataFrame:\")\n",
    "df.info()\n",
    "\n",
    "print(\"\\n📊 Estatísticas descritivas do dataset:\")\n",
    "display(df.describe())\n",
    "\n",
    "print(\"\\n🔍 Verificação de valores nulos:\")\n",
    "display(df.isnull().sum())\n",
    "\n",
    "print(\"\\n📌 Tipos de dados das colunas:\")\n",
    "display(df.dtypes)\n"
   ]
  },
  {
   "cell_type": "markdown",
   "metadata": {},
   "source": [
    "## 📌 6️⃣ Análise de Distribuição dos Valores das Transações\n",
    "\n",
    "Nesta seção, analisamos **como os valores das transações estão distribuídos** e **se há outliers**.  \n",
    "Essa análise nos ajudará a entender padrões e possíveis anomalias associadas a fraudes.\n"
   ]
  },
  {
   "cell_type": "markdown",
   "metadata": {},
   "source": [
    "### 📊 6.1 Histograma: Distribuição do Valor das Transações\n",
    "- **Objetivo**: Visualizar a distribuição dos valores das transações.  \n",
    "- **Interpretação**:  \n",
    "  - A maioria das transações tem valores **baixos (0 a 10 dólares)**.  \n",
    "  - A distribuição é **assimétrica à direita**, indicando algumas transações de alto valor.  \n",
    "  - Transações de valores extremos podem ser **outliers ou potenciais fraudes**.\n"
   ]
  },
  {
   "cell_type": "code",
   "execution_count": null,
   "metadata": {},
   "outputs": [],
   "source": [
    "plt.figure(figsize=(10,5))\n",
    "sns.histplot(df[\"amt\"], bins=50, kde=True)\n",
    "plt.title(\"Distribuição do Valor das Transações\")\n",
    "plt.xlabel(\"Valor da Transação ($)\")\n",
    "plt.ylabel(\"Frequência\")\n",
    "plt.show()\n"
   ]
  },
  {
   "cell_type": "markdown",
   "metadata": {},
   "source": [
    "###  6.2 Boxplot: Identificação de Outliers\n",
    "- **Objetivo**: Identificar **outliers (valores atípicos)** nas transações.  \n",
    "- **Interpretação**:  \n",
    "  - A mediana (~50 dólares) representa o valor central da maioria das transações.  \n",
    "  - **Valores acima de ~175 dólares são considerados outliers**, indicando transações incomuns.  \n",
    "  - Transações extremamente altas podem ser **fraudes ou compras legítimas de alto valor**.\n"
   ]
  },
  {
   "cell_type": "code",
   "execution_count": null,
   "metadata": {},
   "outputs": [],
   "source": [
    "plt.figure(figsize=(10,5))\n",
    "sns.boxplot(x=df[\"amt\"])\n",
    "plt.title(\"Boxplot do Valor das Transações\")\n",
    "plt.xlabel(\"Valor da Transação ($)\")\n",
    "plt.show()\n"
   ]
  },
  {
   "cell_type": "markdown",
   "metadata": {},
   "source": [
    "### 6.3 Filtrando Transações com Valores Elevados\n",
    "- **Objetivo**: Examinar transações acima de **175 dólares** para verificar se há padrões incomuns.  \n",
    "- **Interpretação**:  \n",
    "  - Essas transações podem ser **raras e merecem investigação**.  \n",
    "  - Se muitas dessas transações forem fraudulentas (`is_fraud = 1`), pode indicar que fraudes ocorrem **principalmente em valores altos**.\n"
   ]
  },
  {
   "cell_type": "code",
   "execution_count": null,
   "metadata": {},
   "outputs": [],
   "source": [
    "high_value_tx = df[df[\"amt\"] > 175]\n",
    "display(high_value_tx.head())\n"
   ]
  },
  {
   "cell_type": "markdown",
   "metadata": {},
   "source": [
    "### 📊 6.4 Percentual de Transações Elevadas que São Fraudes\n",
    "- **Objetivo**: Contar quantas dessas transações de alto valor são fraudulentas (`is_fraud = 1`).  \n",
    "- **Interpretação**:  \n",
    "  - Se um **percentual significativo** de fraudes estiver entre as transações caras, pode indicar um **padrão de fraude em compras de alto valor**.  \n",
    "  - Se a maioria das transações de alto valor for legítima, pode ser apenas um comportamento esperado dos clientes.\n"
   ]
  },
  {
   "cell_type": "code",
   "execution_count": null,
   "metadata": {},
   "outputs": [],
   "source": [
    "df[df[\"amt\"] > 175][\"is_fraud\"].value_counts()\n"
   ]
  },
  {
   "cell_type": "markdown",
   "metadata": {},
   "source": [
    "## 📌 7️⃣ Matriz de Correlação\n",
    "\n",
    "\"\"\"\n",
    "A correlação entre as variáveis nos ajuda a entender **relações estatísticas** entre elas.\n",
    "Valores próximos de **1.0 ou -1.0** indicam **forte correlação positiva ou negativa**, \n",
    "enquanto valores próximos de **0** indicam que as variáveis são independentes.\n",
    "\n",
    "📊 **O que analisar?**\n",
    "- Se o valor da transação (`amt`) tem correlação com fraude (`is_fraud`).\n",
    "- Se alguma variável de localização (`lat`, `long`) pode indicar comportamento suspeito.\n",
    "- Se o tempo entre transações (`time_diff`) influencia fraudes.\n",
    "\"\"\""
   ]
  },
  {
   "cell_type": "code",
   "execution_count": null,
   "metadata": {},
   "outputs": [],
   "source": [
    "# Selecionar apenas colunas numéricas para evitar erro\n",
    "df_numeric = df.select_dtypes(include=['number'])\n",
    "\n",
    "# Criar matriz de correlação\n",
    "plt.figure(figsize=(10,6))\n",
    "sns.heatmap(df_numeric.corr(), annot=True, cmap=\"coolwarm\", fmt=\".2f\", linewidths=0.5)\n",
    "plt.title(\"Matriz de Correlação das Variáveis\")\n",
    "plt.show()"
   ]
  },
  {
   "cell_type": "code",
   "execution_count": null,
   "metadata": {},
   "outputs": [],
   "source": [
    "## 📌 8️⃣ Conclusões e Próximos Passos\n",
    "\n",
    "### 🔍 **Conclusões**\n",
    "1️⃣ O dataset contém **informações completas e bem estruturadas**.  \n",
    "2️⃣ A maioria das transações está **concentrada em valores menores**, com poucos outliers.  \n",
    "3️⃣ **Fraudes podem ocorrer tanto em valores baixos quanto altos**, indicando que **outros fatores devem ser analisados**.\n",
    "\n",
    "### 🚀 **Próximos Passos**\n",
    "✅ **Testar otimizações de performance no PySpark** para melhorar a eficiência do ETL.  \n",
    "✅ **Criar dashboards interativos no Power BI** para monitoramento em tempo real.\n"
   ]
  },
  {
   "cell_type": "code",
   "execution_count": null,
   "metadata": {},
   "outputs": [],
   "source": []
  }
 ],
 "metadata": {
  "kernelspec": {
   "display_name": "Python 3 (ipykernel)",
   "language": "python",
   "name": "python3"
  },
  "language_info": {
   "codemirror_mode": {
    "name": "ipython",
    "version": 3
   },
   "file_extension": ".py",
   "mimetype": "text/x-python",
   "name": "python",
   "nbconvert_exporter": "python",
   "pygments_lexer": "ipython3",
   "version": "3.13.2"
  }
 },
 "nbformat": 4,
 "nbformat_minor": 4
}
